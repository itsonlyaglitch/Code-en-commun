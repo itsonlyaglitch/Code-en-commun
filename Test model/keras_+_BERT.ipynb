{
  "nbformat": 4,
  "nbformat_minor": 0,
  "metadata": {
    "colab": {
      "name": "keras + BERT.ipynb",
      "provenance": [],
      "collapsed_sections": [],
      "mount_file_id": "1OWussQd_oql9wfJaWT_dzw7KvR4UDXdj",
      "authorship_tag": "ABX9TyNWaGL/+HrHDvlDsiWrl8hR",
      "include_colab_link": true
    },
    "kernelspec": {
      "name": "python3",
      "display_name": "Python 3"
    },
    "accelerator": "GPU",
    "widgets": {
      "application/vnd.jupyter.widget-state+json": {
        "7880e97800d84794898c97782427ae21": {
          "model_module": "@jupyter-widgets/controls",
          "model_name": "HBoxModel",
          "state": {
            "_view_name": "HBoxView",
            "_dom_classes": [],
            "_model_name": "HBoxModel",
            "_view_module": "@jupyter-widgets/controls",
            "_model_module_version": "1.5.0",
            "_view_count": null,
            "_view_module_version": "1.5.0",
            "box_style": "",
            "layout": "IPY_MODEL_c3bddebf478b45409911989fc25be38b",
            "_model_module": "@jupyter-widgets/controls",
            "children": [
              "IPY_MODEL_973b141e826f4b0386cda2f4f066012f",
              "IPY_MODEL_6bc35f149ac3447ca8bdaf025003b137"
            ]
          }
        },
        "c3bddebf478b45409911989fc25be38b": {
          "model_module": "@jupyter-widgets/base",
          "model_name": "LayoutModel",
          "state": {
            "_view_name": "LayoutView",
            "grid_template_rows": null,
            "right": null,
            "justify_content": null,
            "_view_module": "@jupyter-widgets/base",
            "overflow": null,
            "_model_module_version": "1.2.0",
            "_view_count": null,
            "flex_flow": null,
            "width": null,
            "min_width": null,
            "border": null,
            "align_items": null,
            "bottom": null,
            "_model_module": "@jupyter-widgets/base",
            "top": null,
            "grid_column": null,
            "overflow_y": null,
            "overflow_x": null,
            "grid_auto_flow": null,
            "grid_area": null,
            "grid_template_columns": null,
            "flex": null,
            "_model_name": "LayoutModel",
            "justify_items": null,
            "grid_row": null,
            "max_height": null,
            "align_content": null,
            "visibility": null,
            "align_self": null,
            "height": null,
            "min_height": null,
            "padding": null,
            "grid_auto_rows": null,
            "grid_gap": null,
            "max_width": null,
            "order": null,
            "_view_module_version": "1.2.0",
            "grid_template_areas": null,
            "object_position": null,
            "object_fit": null,
            "grid_auto_columns": null,
            "margin": null,
            "display": null,
            "left": null
          }
        },
        "973b141e826f4b0386cda2f4f066012f": {
          "model_module": "@jupyter-widgets/controls",
          "model_name": "FloatProgressModel",
          "state": {
            "_view_name": "ProgressView",
            "style": "IPY_MODEL_54c0c8a8fab9484eb39ddd6df5900aea",
            "_dom_classes": [],
            "description": "Downloading: 100%",
            "_model_name": "FloatProgressModel",
            "bar_style": "success",
            "max": 231508,
            "_view_module": "@jupyter-widgets/controls",
            "_model_module_version": "1.5.0",
            "value": 231508,
            "_view_count": null,
            "_view_module_version": "1.5.0",
            "orientation": "horizontal",
            "min": 0,
            "description_tooltip": null,
            "_model_module": "@jupyter-widgets/controls",
            "layout": "IPY_MODEL_4d8b006409494149a82a8fd24ee0e160"
          }
        },
        "6bc35f149ac3447ca8bdaf025003b137": {
          "model_module": "@jupyter-widgets/controls",
          "model_name": "HTMLModel",
          "state": {
            "_view_name": "HTMLView",
            "style": "IPY_MODEL_655bc4f462f44255a0215a47bbf36e1d",
            "_dom_classes": [],
            "description": "",
            "_model_name": "HTMLModel",
            "placeholder": "​",
            "_view_module": "@jupyter-widgets/controls",
            "_model_module_version": "1.5.0",
            "value": " 232k/232k [00:00&lt;00:00, 2.05MB/s]",
            "_view_count": null,
            "_view_module_version": "1.5.0",
            "description_tooltip": null,
            "_model_module": "@jupyter-widgets/controls",
            "layout": "IPY_MODEL_265be61f78c4498eab569f2f0fe92921"
          }
        },
        "54c0c8a8fab9484eb39ddd6df5900aea": {
          "model_module": "@jupyter-widgets/controls",
          "model_name": "ProgressStyleModel",
          "state": {
            "_view_name": "StyleView",
            "_model_name": "ProgressStyleModel",
            "description_width": "initial",
            "_view_module": "@jupyter-widgets/base",
            "_model_module_version": "1.5.0",
            "_view_count": null,
            "_view_module_version": "1.2.0",
            "bar_color": null,
            "_model_module": "@jupyter-widgets/controls"
          }
        },
        "4d8b006409494149a82a8fd24ee0e160": {
          "model_module": "@jupyter-widgets/base",
          "model_name": "LayoutModel",
          "state": {
            "_view_name": "LayoutView",
            "grid_template_rows": null,
            "right": null,
            "justify_content": null,
            "_view_module": "@jupyter-widgets/base",
            "overflow": null,
            "_model_module_version": "1.2.0",
            "_view_count": null,
            "flex_flow": null,
            "width": null,
            "min_width": null,
            "border": null,
            "align_items": null,
            "bottom": null,
            "_model_module": "@jupyter-widgets/base",
            "top": null,
            "grid_column": null,
            "overflow_y": null,
            "overflow_x": null,
            "grid_auto_flow": null,
            "grid_area": null,
            "grid_template_columns": null,
            "flex": null,
            "_model_name": "LayoutModel",
            "justify_items": null,
            "grid_row": null,
            "max_height": null,
            "align_content": null,
            "visibility": null,
            "align_self": null,
            "height": null,
            "min_height": null,
            "padding": null,
            "grid_auto_rows": null,
            "grid_gap": null,
            "max_width": null,
            "order": null,
            "_view_module_version": "1.2.0",
            "grid_template_areas": null,
            "object_position": null,
            "object_fit": null,
            "grid_auto_columns": null,
            "margin": null,
            "display": null,
            "left": null
          }
        },
        "655bc4f462f44255a0215a47bbf36e1d": {
          "model_module": "@jupyter-widgets/controls",
          "model_name": "DescriptionStyleModel",
          "state": {
            "_view_name": "StyleView",
            "_model_name": "DescriptionStyleModel",
            "description_width": "",
            "_view_module": "@jupyter-widgets/base",
            "_model_module_version": "1.5.0",
            "_view_count": null,
            "_view_module_version": "1.2.0",
            "_model_module": "@jupyter-widgets/controls"
          }
        },
        "265be61f78c4498eab569f2f0fe92921": {
          "model_module": "@jupyter-widgets/base",
          "model_name": "LayoutModel",
          "state": {
            "_view_name": "LayoutView",
            "grid_template_rows": null,
            "right": null,
            "justify_content": null,
            "_view_module": "@jupyter-widgets/base",
            "overflow": null,
            "_model_module_version": "1.2.0",
            "_view_count": null,
            "flex_flow": null,
            "width": null,
            "min_width": null,
            "border": null,
            "align_items": null,
            "bottom": null,
            "_model_module": "@jupyter-widgets/base",
            "top": null,
            "grid_column": null,
            "overflow_y": null,
            "overflow_x": null,
            "grid_auto_flow": null,
            "grid_area": null,
            "grid_template_columns": null,
            "flex": null,
            "_model_name": "LayoutModel",
            "justify_items": null,
            "grid_row": null,
            "max_height": null,
            "align_content": null,
            "visibility": null,
            "align_self": null,
            "height": null,
            "min_height": null,
            "padding": null,
            "grid_auto_rows": null,
            "grid_gap": null,
            "max_width": null,
            "order": null,
            "_view_module_version": "1.2.0",
            "grid_template_areas": null,
            "object_position": null,
            "object_fit": null,
            "grid_auto_columns": null,
            "margin": null,
            "display": null,
            "left": null
          }
        },
        "166df06c55d548a789f6955be157af52": {
          "model_module": "@jupyter-widgets/controls",
          "model_name": "HBoxModel",
          "state": {
            "_view_name": "HBoxView",
            "_dom_classes": [],
            "_model_name": "HBoxModel",
            "_view_module": "@jupyter-widgets/controls",
            "_model_module_version": "1.5.0",
            "_view_count": null,
            "_view_module_version": "1.5.0",
            "box_style": "",
            "layout": "IPY_MODEL_7567b5992a96460887036c6b0e144168",
            "_model_module": "@jupyter-widgets/controls",
            "children": [
              "IPY_MODEL_936037879ac347f4927bf716c6903186",
              "IPY_MODEL_b5a4ed64916d41519806e038ed74c861"
            ]
          }
        },
        "7567b5992a96460887036c6b0e144168": {
          "model_module": "@jupyter-widgets/base",
          "model_name": "LayoutModel",
          "state": {
            "_view_name": "LayoutView",
            "grid_template_rows": null,
            "right": null,
            "justify_content": null,
            "_view_module": "@jupyter-widgets/base",
            "overflow": null,
            "_model_module_version": "1.2.0",
            "_view_count": null,
            "flex_flow": null,
            "width": null,
            "min_width": null,
            "border": null,
            "align_items": null,
            "bottom": null,
            "_model_module": "@jupyter-widgets/base",
            "top": null,
            "grid_column": null,
            "overflow_y": null,
            "overflow_x": null,
            "grid_auto_flow": null,
            "grid_area": null,
            "grid_template_columns": null,
            "flex": null,
            "_model_name": "LayoutModel",
            "justify_items": null,
            "grid_row": null,
            "max_height": null,
            "align_content": null,
            "visibility": null,
            "align_self": null,
            "height": null,
            "min_height": null,
            "padding": null,
            "grid_auto_rows": null,
            "grid_gap": null,
            "max_width": null,
            "order": null,
            "_view_module_version": "1.2.0",
            "grid_template_areas": null,
            "object_position": null,
            "object_fit": null,
            "grid_auto_columns": null,
            "margin": null,
            "display": null,
            "left": null
          }
        },
        "936037879ac347f4927bf716c6903186": {
          "model_module": "@jupyter-widgets/controls",
          "model_name": "FloatProgressModel",
          "state": {
            "_view_name": "ProgressView",
            "style": "IPY_MODEL_95fe937a68be4938bee24d8436b053db",
            "_dom_classes": [],
            "description": "Downloading: 100%",
            "_model_name": "FloatProgressModel",
            "bar_style": "success",
            "max": 433,
            "_view_module": "@jupyter-widgets/controls",
            "_model_module_version": "1.5.0",
            "value": 433,
            "_view_count": null,
            "_view_module_version": "1.5.0",
            "orientation": "horizontal",
            "min": 0,
            "description_tooltip": null,
            "_model_module": "@jupyter-widgets/controls",
            "layout": "IPY_MODEL_b6fed48f0af74c2f8f77be347e5e6317"
          }
        },
        "b5a4ed64916d41519806e038ed74c861": {
          "model_module": "@jupyter-widgets/controls",
          "model_name": "HTMLModel",
          "state": {
            "_view_name": "HTMLView",
            "style": "IPY_MODEL_00766664b1594a278afa24376525fc14",
            "_dom_classes": [],
            "description": "",
            "_model_name": "HTMLModel",
            "placeholder": "​",
            "_view_module": "@jupyter-widgets/controls",
            "_model_module_version": "1.5.0",
            "value": " 433/433 [00:07&lt;00:00, 55.7B/s]",
            "_view_count": null,
            "_view_module_version": "1.5.0",
            "description_tooltip": null,
            "_model_module": "@jupyter-widgets/controls",
            "layout": "IPY_MODEL_ff48b23e4697453fb641370b9445beee"
          }
        },
        "95fe937a68be4938bee24d8436b053db": {
          "model_module": "@jupyter-widgets/controls",
          "model_name": "ProgressStyleModel",
          "state": {
            "_view_name": "StyleView",
            "_model_name": "ProgressStyleModel",
            "description_width": "initial",
            "_view_module": "@jupyter-widgets/base",
            "_model_module_version": "1.5.0",
            "_view_count": null,
            "_view_module_version": "1.2.0",
            "bar_color": null,
            "_model_module": "@jupyter-widgets/controls"
          }
        },
        "b6fed48f0af74c2f8f77be347e5e6317": {
          "model_module": "@jupyter-widgets/base",
          "model_name": "LayoutModel",
          "state": {
            "_view_name": "LayoutView",
            "grid_template_rows": null,
            "right": null,
            "justify_content": null,
            "_view_module": "@jupyter-widgets/base",
            "overflow": null,
            "_model_module_version": "1.2.0",
            "_view_count": null,
            "flex_flow": null,
            "width": null,
            "min_width": null,
            "border": null,
            "align_items": null,
            "bottom": null,
            "_model_module": "@jupyter-widgets/base",
            "top": null,
            "grid_column": null,
            "overflow_y": null,
            "overflow_x": null,
            "grid_auto_flow": null,
            "grid_area": null,
            "grid_template_columns": null,
            "flex": null,
            "_model_name": "LayoutModel",
            "justify_items": null,
            "grid_row": null,
            "max_height": null,
            "align_content": null,
            "visibility": null,
            "align_self": null,
            "height": null,
            "min_height": null,
            "padding": null,
            "grid_auto_rows": null,
            "grid_gap": null,
            "max_width": null,
            "order": null,
            "_view_module_version": "1.2.0",
            "grid_template_areas": null,
            "object_position": null,
            "object_fit": null,
            "grid_auto_columns": null,
            "margin": null,
            "display": null,
            "left": null
          }
        },
        "00766664b1594a278afa24376525fc14": {
          "model_module": "@jupyter-widgets/controls",
          "model_name": "DescriptionStyleModel",
          "state": {
            "_view_name": "StyleView",
            "_model_name": "DescriptionStyleModel",
            "description_width": "",
            "_view_module": "@jupyter-widgets/base",
            "_model_module_version": "1.5.0",
            "_view_count": null,
            "_view_module_version": "1.2.0",
            "_model_module": "@jupyter-widgets/controls"
          }
        },
        "ff48b23e4697453fb641370b9445beee": {
          "model_module": "@jupyter-widgets/base",
          "model_name": "LayoutModel",
          "state": {
            "_view_name": "LayoutView",
            "grid_template_rows": null,
            "right": null,
            "justify_content": null,
            "_view_module": "@jupyter-widgets/base",
            "overflow": null,
            "_model_module_version": "1.2.0",
            "_view_count": null,
            "flex_flow": null,
            "width": null,
            "min_width": null,
            "border": null,
            "align_items": null,
            "bottom": null,
            "_model_module": "@jupyter-widgets/base",
            "top": null,
            "grid_column": null,
            "overflow_y": null,
            "overflow_x": null,
            "grid_auto_flow": null,
            "grid_area": null,
            "grid_template_columns": null,
            "flex": null,
            "_model_name": "LayoutModel",
            "justify_items": null,
            "grid_row": null,
            "max_height": null,
            "align_content": null,
            "visibility": null,
            "align_self": null,
            "height": null,
            "min_height": null,
            "padding": null,
            "grid_auto_rows": null,
            "grid_gap": null,
            "max_width": null,
            "order": null,
            "_view_module_version": "1.2.0",
            "grid_template_areas": null,
            "object_position": null,
            "object_fit": null,
            "grid_auto_columns": null,
            "margin": null,
            "display": null,
            "left": null
          }
        },
        "f0dd6fce74d24925bd0fb47ae5d8f0ee": {
          "model_module": "@jupyter-widgets/controls",
          "model_name": "HBoxModel",
          "state": {
            "_view_name": "HBoxView",
            "_dom_classes": [],
            "_model_name": "HBoxModel",
            "_view_module": "@jupyter-widgets/controls",
            "_model_module_version": "1.5.0",
            "_view_count": null,
            "_view_module_version": "1.5.0",
            "box_style": "",
            "layout": "IPY_MODEL_b0b3a65b3b034ad0bce7ea6791e82232",
            "_model_module": "@jupyter-widgets/controls",
            "children": [
              "IPY_MODEL_f664579c95c043fb9ceb93908e526c3a",
              "IPY_MODEL_165e5883703c49f8a342d74ff75666db"
            ]
          }
        },
        "b0b3a65b3b034ad0bce7ea6791e82232": {
          "model_module": "@jupyter-widgets/base",
          "model_name": "LayoutModel",
          "state": {
            "_view_name": "LayoutView",
            "grid_template_rows": null,
            "right": null,
            "justify_content": null,
            "_view_module": "@jupyter-widgets/base",
            "overflow": null,
            "_model_module_version": "1.2.0",
            "_view_count": null,
            "flex_flow": null,
            "width": null,
            "min_width": null,
            "border": null,
            "align_items": null,
            "bottom": null,
            "_model_module": "@jupyter-widgets/base",
            "top": null,
            "grid_column": null,
            "overflow_y": null,
            "overflow_x": null,
            "grid_auto_flow": null,
            "grid_area": null,
            "grid_template_columns": null,
            "flex": null,
            "_model_name": "LayoutModel",
            "justify_items": null,
            "grid_row": null,
            "max_height": null,
            "align_content": null,
            "visibility": null,
            "align_self": null,
            "height": null,
            "min_height": null,
            "padding": null,
            "grid_auto_rows": null,
            "grid_gap": null,
            "max_width": null,
            "order": null,
            "_view_module_version": "1.2.0",
            "grid_template_areas": null,
            "object_position": null,
            "object_fit": null,
            "grid_auto_columns": null,
            "margin": null,
            "display": null,
            "left": null
          }
        },
        "f664579c95c043fb9ceb93908e526c3a": {
          "model_module": "@jupyter-widgets/controls",
          "model_name": "FloatProgressModel",
          "state": {
            "_view_name": "ProgressView",
            "style": "IPY_MODEL_7787336e7a6c44c69e9ba17b5f53f043",
            "_dom_classes": [],
            "description": "Downloading: 100%",
            "_model_name": "FloatProgressModel",
            "bar_style": "success",
            "max": 536063208,
            "_view_module": "@jupyter-widgets/controls",
            "_model_module_version": "1.5.0",
            "value": 536063208,
            "_view_count": null,
            "_view_module_version": "1.5.0",
            "orientation": "horizontal",
            "min": 0,
            "description_tooltip": null,
            "_model_module": "@jupyter-widgets/controls",
            "layout": "IPY_MODEL_9549988112844c16b577e82ea0aa4c7a"
          }
        },
        "165e5883703c49f8a342d74ff75666db": {
          "model_module": "@jupyter-widgets/controls",
          "model_name": "HTMLModel",
          "state": {
            "_view_name": "HTMLView",
            "style": "IPY_MODEL_f0da33e84342427ca5e887bc7d918964",
            "_dom_classes": [],
            "description": "",
            "_model_name": "HTMLModel",
            "placeholder": "​",
            "_view_module": "@jupyter-widgets/controls",
            "_model_module_version": "1.5.0",
            "value": " 536M/536M [00:07&lt;00:00, 70.2MB/s]",
            "_view_count": null,
            "_view_module_version": "1.5.0",
            "description_tooltip": null,
            "_model_module": "@jupyter-widgets/controls",
            "layout": "IPY_MODEL_27b52d44e8d64f9886ac063b3672d1fd"
          }
        },
        "7787336e7a6c44c69e9ba17b5f53f043": {
          "model_module": "@jupyter-widgets/controls",
          "model_name": "ProgressStyleModel",
          "state": {
            "_view_name": "StyleView",
            "_model_name": "ProgressStyleModel",
            "description_width": "initial",
            "_view_module": "@jupyter-widgets/base",
            "_model_module_version": "1.5.0",
            "_view_count": null,
            "_view_module_version": "1.2.0",
            "bar_color": null,
            "_model_module": "@jupyter-widgets/controls"
          }
        },
        "9549988112844c16b577e82ea0aa4c7a": {
          "model_module": "@jupyter-widgets/base",
          "model_name": "LayoutModel",
          "state": {
            "_view_name": "LayoutView",
            "grid_template_rows": null,
            "right": null,
            "justify_content": null,
            "_view_module": "@jupyter-widgets/base",
            "overflow": null,
            "_model_module_version": "1.2.0",
            "_view_count": null,
            "flex_flow": null,
            "width": null,
            "min_width": null,
            "border": null,
            "align_items": null,
            "bottom": null,
            "_model_module": "@jupyter-widgets/base",
            "top": null,
            "grid_column": null,
            "overflow_y": null,
            "overflow_x": null,
            "grid_auto_flow": null,
            "grid_area": null,
            "grid_template_columns": null,
            "flex": null,
            "_model_name": "LayoutModel",
            "justify_items": null,
            "grid_row": null,
            "max_height": null,
            "align_content": null,
            "visibility": null,
            "align_self": null,
            "height": null,
            "min_height": null,
            "padding": null,
            "grid_auto_rows": null,
            "grid_gap": null,
            "max_width": null,
            "order": null,
            "_view_module_version": "1.2.0",
            "grid_template_areas": null,
            "object_position": null,
            "object_fit": null,
            "grid_auto_columns": null,
            "margin": null,
            "display": null,
            "left": null
          }
        },
        "f0da33e84342427ca5e887bc7d918964": {
          "model_module": "@jupyter-widgets/controls",
          "model_name": "DescriptionStyleModel",
          "state": {
            "_view_name": "StyleView",
            "_model_name": "DescriptionStyleModel",
            "description_width": "",
            "_view_module": "@jupyter-widgets/base",
            "_model_module_version": "1.5.0",
            "_view_count": null,
            "_view_module_version": "1.2.0",
            "_model_module": "@jupyter-widgets/controls"
          }
        },
        "27b52d44e8d64f9886ac063b3672d1fd": {
          "model_module": "@jupyter-widgets/base",
          "model_name": "LayoutModel",
          "state": {
            "_view_name": "LayoutView",
            "grid_template_rows": null,
            "right": null,
            "justify_content": null,
            "_view_module": "@jupyter-widgets/base",
            "overflow": null,
            "_model_module_version": "1.2.0",
            "_view_count": null,
            "flex_flow": null,
            "width": null,
            "min_width": null,
            "border": null,
            "align_items": null,
            "bottom": null,
            "_model_module": "@jupyter-widgets/base",
            "top": null,
            "grid_column": null,
            "overflow_y": null,
            "overflow_x": null,
            "grid_auto_flow": null,
            "grid_area": null,
            "grid_template_columns": null,
            "flex": null,
            "_model_name": "LayoutModel",
            "justify_items": null,
            "grid_row": null,
            "max_height": null,
            "align_content": null,
            "visibility": null,
            "align_self": null,
            "height": null,
            "min_height": null,
            "padding": null,
            "grid_auto_rows": null,
            "grid_gap": null,
            "max_width": null,
            "order": null,
            "_view_module_version": "1.2.0",
            "grid_template_areas": null,
            "object_position": null,
            "object_fit": null,
            "grid_auto_columns": null,
            "margin": null,
            "display": null,
            "left": null
          }
        }
      }
    }
  },
  "cells": [
    {
      "cell_type": "markdown",
      "metadata": {
        "id": "view-in-github",
        "colab_type": "text"
      },
      "source": [
        "<a href=\"https://colab.research.google.com/github/itsonlyaglitch/Code-en-commun/blob/main/Test%20model/keras_%2B_BERT.ipynb\" target=\"_parent\"><img src=\"https://colab.research.google.com/assets/colab-badge.svg\" alt=\"Open In Colab\"/></a>"
      ]
    },
    {
      "cell_type": "markdown",
      "metadata": {
        "id": "9PPtRqlzuahx"
      },
      "source": [
        "https://swatimeena989.medium.com/bert-text-classification-using-keras-903671e0207d"
      ]
    },
    {
      "cell_type": "code",
      "metadata": {
        "id": "yA-NnFQP9iYx",
        "colab": {
          "base_uri": "https://localhost:8080/"
        },
        "outputId": "552b386b-15a8-498a-e355-7f0f89e8bc01"
      },
      "source": [
        "import tensorflow as tf\n",
        "import tensorflow_hub as hub\n",
        "import pandas as pd\n",
        "from sklearn.model_selection import train_test_split\n",
        "import numpy as np\n",
        "import re\n",
        "import unicodedata\n",
        "import nltk\n",
        "from nltk.corpus import stopwords\n",
        "import tensorflow.keras\n",
        "from tqdm import tqdm\n",
        "import pickle\n",
        "from tensorflow.keras.models import Model\n",
        "import tensorflow.keras.backend as K\n",
        "from sklearn.metrics import confusion_matrix,f1_score,classification_report\n",
        "import matplotlib.pyplot as plt\n",
        "from tensorflow.keras.callbacks import ModelCheckpoint\n",
        "import itertools\n",
        "from tensorflow.keras.models import load_model\n",
        "from sklearn.utils import shuffle\n",
        "!pip install transformers\n",
        "from transformers import *\n",
        "from transformers import BertTokenizer, TFBertModel, BertConfig"
      ],
      "execution_count": 2,
      "outputs": [
        {
          "output_type": "stream",
          "text": [
            "Collecting transformers\n",
            "\u001b[?25l  Downloading https://files.pythonhosted.org/packages/3a/83/e74092e7f24a08d751aa59b37a9fc572b2e4af3918cb66f7766c3affb1b4/transformers-3.5.1-py3-none-any.whl (1.3MB)\n",
            "\r\u001b[K     |▎                               | 10kB 22.2MB/s eta 0:00:01\r\u001b[K     |▌                               | 20kB 28.3MB/s eta 0:00:01\r\u001b[K     |▊                               | 30kB 33.5MB/s eta 0:00:01\r\u001b[K     |█                               | 40kB 30.4MB/s eta 0:00:01\r\u001b[K     |█▎                              | 51kB 28.5MB/s eta 0:00:01\r\u001b[K     |█▌                              | 61kB 30.8MB/s eta 0:00:01\r\u001b[K     |█▊                              | 71kB 24.5MB/s eta 0:00:01\r\u001b[K     |██                              | 81kB 21.1MB/s eta 0:00:01\r\u001b[K     |██▎                             | 92kB 19.3MB/s eta 0:00:01\r\u001b[K     |██▌                             | 102kB 20.5MB/s eta 0:00:01\r\u001b[K     |██▊                             | 112kB 20.5MB/s eta 0:00:01\r\u001b[K     |███                             | 122kB 20.5MB/s eta 0:00:01\r\u001b[K     |███▎                            | 133kB 20.5MB/s eta 0:00:01\r\u001b[K     |███▌                            | 143kB 20.5MB/s eta 0:00:01\r\u001b[K     |███▉                            | 153kB 20.5MB/s eta 0:00:01\r\u001b[K     |████                            | 163kB 20.5MB/s eta 0:00:01\r\u001b[K     |████▎                           | 174kB 20.5MB/s eta 0:00:01\r\u001b[K     |████▌                           | 184kB 20.5MB/s eta 0:00:01\r\u001b[K     |████▉                           | 194kB 20.5MB/s eta 0:00:01\r\u001b[K     |█████                           | 204kB 20.5MB/s eta 0:00:01\r\u001b[K     |█████▎                          | 215kB 20.5MB/s eta 0:00:01\r\u001b[K     |█████▌                          | 225kB 20.5MB/s eta 0:00:01\r\u001b[K     |█████▉                          | 235kB 20.5MB/s eta 0:00:01\r\u001b[K     |██████                          | 245kB 20.5MB/s eta 0:00:01\r\u001b[K     |██████▎                         | 256kB 20.5MB/s eta 0:00:01\r\u001b[K     |██████▌                         | 266kB 20.5MB/s eta 0:00:01\r\u001b[K     |██████▉                         | 276kB 20.5MB/s eta 0:00:01\r\u001b[K     |███████                         | 286kB 20.5MB/s eta 0:00:01\r\u001b[K     |███████▎                        | 296kB 20.5MB/s eta 0:00:01\r\u001b[K     |███████▋                        | 307kB 20.5MB/s eta 0:00:01\r\u001b[K     |███████▉                        | 317kB 20.5MB/s eta 0:00:01\r\u001b[K     |████████                        | 327kB 20.5MB/s eta 0:00:01\r\u001b[K     |████████▎                       | 337kB 20.5MB/s eta 0:00:01\r\u001b[K     |████████▋                       | 348kB 20.5MB/s eta 0:00:01\r\u001b[K     |████████▉                       | 358kB 20.5MB/s eta 0:00:01\r\u001b[K     |█████████                       | 368kB 20.5MB/s eta 0:00:01\r\u001b[K     |█████████▎                      | 378kB 20.5MB/s eta 0:00:01\r\u001b[K     |█████████▋                      | 389kB 20.5MB/s eta 0:00:01\r\u001b[K     |█████████▉                      | 399kB 20.5MB/s eta 0:00:01\r\u001b[K     |██████████                      | 409kB 20.5MB/s eta 0:00:01\r\u001b[K     |██████████▎                     | 419kB 20.5MB/s eta 0:00:01\r\u001b[K     |██████████▋                     | 430kB 20.5MB/s eta 0:00:01\r\u001b[K     |██████████▉                     | 440kB 20.5MB/s eta 0:00:01\r\u001b[K     |███████████                     | 450kB 20.5MB/s eta 0:00:01\r\u001b[K     |███████████▍                    | 460kB 20.5MB/s eta 0:00:01\r\u001b[K     |███████████▋                    | 471kB 20.5MB/s eta 0:00:01\r\u001b[K     |███████████▉                    | 481kB 20.5MB/s eta 0:00:01\r\u001b[K     |████████████                    | 491kB 20.5MB/s eta 0:00:01\r\u001b[K     |████████████▍                   | 501kB 20.5MB/s eta 0:00:01\r\u001b[K     |████████████▋                   | 512kB 20.5MB/s eta 0:00:01\r\u001b[K     |████████████▉                   | 522kB 20.5MB/s eta 0:00:01\r\u001b[K     |█████████████                   | 532kB 20.5MB/s eta 0:00:01\r\u001b[K     |█████████████▍                  | 542kB 20.5MB/s eta 0:00:01\r\u001b[K     |█████████████▋                  | 552kB 20.5MB/s eta 0:00:01\r\u001b[K     |█████████████▉                  | 563kB 20.5MB/s eta 0:00:01\r\u001b[K     |██████████████                  | 573kB 20.5MB/s eta 0:00:01\r\u001b[K     |██████████████▍                 | 583kB 20.5MB/s eta 0:00:01\r\u001b[K     |██████████████▋                 | 593kB 20.5MB/s eta 0:00:01\r\u001b[K     |██████████████▉                 | 604kB 20.5MB/s eta 0:00:01\r\u001b[K     |███████████████▏                | 614kB 20.5MB/s eta 0:00:01\r\u001b[K     |███████████████▍                | 624kB 20.5MB/s eta 0:00:01\r\u001b[K     |███████████████▋                | 634kB 20.5MB/s eta 0:00:01\r\u001b[K     |███████████████▉                | 645kB 20.5MB/s eta 0:00:01\r\u001b[K     |████████████████▏               | 655kB 20.5MB/s eta 0:00:01\r\u001b[K     |████████████████▍               | 665kB 20.5MB/s eta 0:00:01\r\u001b[K     |████████████████▋               | 675kB 20.5MB/s eta 0:00:01\r\u001b[K     |████████████████▉               | 686kB 20.5MB/s eta 0:00:01\r\u001b[K     |█████████████████▏              | 696kB 20.5MB/s eta 0:00:01\r\u001b[K     |█████████████████▍              | 706kB 20.5MB/s eta 0:00:01\r\u001b[K     |█████████████████▋              | 716kB 20.5MB/s eta 0:00:01\r\u001b[K     |██████████████████              | 727kB 20.5MB/s eta 0:00:01\r\u001b[K     |██████████████████▏             | 737kB 20.5MB/s eta 0:00:01\r\u001b[K     |██████████████████▍             | 747kB 20.5MB/s eta 0:00:01\r\u001b[K     |██████████████████▋             | 757kB 20.5MB/s eta 0:00:01\r\u001b[K     |███████████████████             | 768kB 20.5MB/s eta 0:00:01\r\u001b[K     |███████████████████▏            | 778kB 20.5MB/s eta 0:00:01\r\u001b[K     |███████████████████▍            | 788kB 20.5MB/s eta 0:00:01\r\u001b[K     |███████████████████▋            | 798kB 20.5MB/s eta 0:00:01\r\u001b[K     |████████████████████            | 808kB 20.5MB/s eta 0:00:01\r\u001b[K     |████████████████████▏           | 819kB 20.5MB/s eta 0:00:01\r\u001b[K     |████████████████████▍           | 829kB 20.5MB/s eta 0:00:01\r\u001b[K     |████████████████████▋           | 839kB 20.5MB/s eta 0:00:01\r\u001b[K     |█████████████████████           | 849kB 20.5MB/s eta 0:00:01\r\u001b[K     |█████████████████████▏          | 860kB 20.5MB/s eta 0:00:01\r\u001b[K     |█████████████████████▍          | 870kB 20.5MB/s eta 0:00:01\r\u001b[K     |█████████████████████▊          | 880kB 20.5MB/s eta 0:00:01\r\u001b[K     |██████████████████████          | 890kB 20.5MB/s eta 0:00:01\r\u001b[K     |██████████████████████▏         | 901kB 20.5MB/s eta 0:00:01\r\u001b[K     |██████████████████████▍         | 911kB 20.5MB/s eta 0:00:01\r\u001b[K     |██████████████████████▊         | 921kB 20.5MB/s eta 0:00:01\r\u001b[K     |███████████████████████         | 931kB 20.5MB/s eta 0:00:01\r\u001b[K     |███████████████████████▏        | 942kB 20.5MB/s eta 0:00:01\r\u001b[K     |███████████████████████▍        | 952kB 20.5MB/s eta 0:00:01\r\u001b[K     |███████████████████████▊        | 962kB 20.5MB/s eta 0:00:01\r\u001b[K     |████████████████████████        | 972kB 20.5MB/s eta 0:00:01\r\u001b[K     |████████████████████████▏       | 983kB 20.5MB/s eta 0:00:01\r\u001b[K     |████████████████████████▍       | 993kB 20.5MB/s eta 0:00:01\r\u001b[K     |████████████████████████▊       | 1.0MB 20.5MB/s eta 0:00:01\r\u001b[K     |█████████████████████████       | 1.0MB 20.5MB/s eta 0:00:01\r\u001b[K     |█████████████████████████▏      | 1.0MB 20.5MB/s eta 0:00:01\r\u001b[K     |█████████████████████████▌      | 1.0MB 20.5MB/s eta 0:00:01\r\u001b[K     |█████████████████████████▊      | 1.0MB 20.5MB/s eta 0:00:01\r\u001b[K     |██████████████████████████      | 1.1MB 20.5MB/s eta 0:00:01\r\u001b[K     |██████████████████████████▏     | 1.1MB 20.5MB/s eta 0:00:01\r\u001b[K     |██████████████████████████▌     | 1.1MB 20.5MB/s eta 0:00:01\r\u001b[K     |██████████████████████████▊     | 1.1MB 20.5MB/s eta 0:00:01\r\u001b[K     |███████████████████████████     | 1.1MB 20.5MB/s eta 0:00:01\r\u001b[K     |███████████████████████████▏    | 1.1MB 20.5MB/s eta 0:00:01\r\u001b[K     |███████████████████████████▌    | 1.1MB 20.5MB/s eta 0:00:01\r\u001b[K     |███████████████████████████▊    | 1.1MB 20.5MB/s eta 0:00:01\r\u001b[K     |████████████████████████████    | 1.1MB 20.5MB/s eta 0:00:01\r\u001b[K     |████████████████████████████▏   | 1.1MB 20.5MB/s eta 0:00:01\r\u001b[K     |████████████████████████████▌   | 1.2MB 20.5MB/s eta 0:00:01\r\u001b[K     |████████████████████████████▊   | 1.2MB 20.5MB/s eta 0:00:01\r\u001b[K     |█████████████████████████████   | 1.2MB 20.5MB/s eta 0:00:01\r\u001b[K     |█████████████████████████████▎  | 1.2MB 20.5MB/s eta 0:00:01\r\u001b[K     |█████████████████████████████▌  | 1.2MB 20.5MB/s eta 0:00:01\r\u001b[K     |█████████████████████████████▊  | 1.2MB 20.5MB/s eta 0:00:01\r\u001b[K     |██████████████████████████████  | 1.2MB 20.5MB/s eta 0:00:01\r\u001b[K     |██████████████████████████████▎ | 1.2MB 20.5MB/s eta 0:00:01\r\u001b[K     |██████████████████████████████▌ | 1.2MB 20.5MB/s eta 0:00:01\r\u001b[K     |██████████████████████████████▊ | 1.2MB 20.5MB/s eta 0:00:01\r\u001b[K     |███████████████████████████████ | 1.3MB 20.5MB/s eta 0:00:01\r\u001b[K     |███████████████████████████████▎| 1.3MB 20.5MB/s eta 0:00:01\r\u001b[K     |███████████████████████████████▌| 1.3MB 20.5MB/s eta 0:00:01\r\u001b[K     |███████████████████████████████▊| 1.3MB 20.5MB/s eta 0:00:01\r\u001b[K     |████████████████████████████████| 1.3MB 20.5MB/s eta 0:00:01\r\u001b[K     |████████████████████████████████| 1.3MB 20.5MB/s \n",
            "\u001b[?25hRequirement already satisfied: dataclasses; python_version < \"3.7\" in /usr/local/lib/python3.6/dist-packages (from transformers) (0.8)\n",
            "Requirement already satisfied: protobuf in /usr/local/lib/python3.6/dist-packages (from transformers) (3.12.4)\n",
            "Requirement already satisfied: regex!=2019.12.17 in /usr/local/lib/python3.6/dist-packages (from transformers) (2019.12.20)\n",
            "Requirement already satisfied: numpy in /usr/local/lib/python3.6/dist-packages (from transformers) (1.18.5)\n",
            "Collecting tokenizers==0.9.3\n",
            "\u001b[?25l  Downloading https://files.pythonhosted.org/packages/4c/34/b39eb9994bc3c999270b69c9eea40ecc6f0e97991dba28282b9fd32d44ee/tokenizers-0.9.3-cp36-cp36m-manylinux1_x86_64.whl (2.9MB)\n",
            "\u001b[K     |████████████████████████████████| 2.9MB 53.0MB/s \n",
            "\u001b[?25hCollecting sacremoses\n",
            "\u001b[?25l  Downloading https://files.pythonhosted.org/packages/7d/34/09d19aff26edcc8eb2a01bed8e98f13a1537005d31e95233fd48216eed10/sacremoses-0.0.43.tar.gz (883kB)\n",
            "\u001b[K     |████████████████████████████████| 890kB 53.9MB/s \n",
            "\u001b[?25hCollecting sentencepiece==0.1.91\n",
            "\u001b[?25l  Downloading https://files.pythonhosted.org/packages/d4/a4/d0a884c4300004a78cca907a6ff9a5e9fe4f090f5d95ab341c53d28cbc58/sentencepiece-0.1.91-cp36-cp36m-manylinux1_x86_64.whl (1.1MB)\n",
            "\u001b[K     |████████████████████████████████| 1.1MB 48.2MB/s \n",
            "\u001b[?25hRequirement already satisfied: filelock in /usr/local/lib/python3.6/dist-packages (from transformers) (3.0.12)\n",
            "Requirement already satisfied: packaging in /usr/local/lib/python3.6/dist-packages (from transformers) (20.4)\n",
            "Requirement already satisfied: requests in /usr/local/lib/python3.6/dist-packages (from transformers) (2.23.0)\n",
            "Requirement already satisfied: tqdm>=4.27 in /usr/local/lib/python3.6/dist-packages (from transformers) (4.41.1)\n",
            "Requirement already satisfied: setuptools in /usr/local/lib/python3.6/dist-packages (from protobuf->transformers) (50.3.2)\n",
            "Requirement already satisfied: six>=1.9 in /usr/local/lib/python3.6/dist-packages (from protobuf->transformers) (1.15.0)\n",
            "Requirement already satisfied: click in /usr/local/lib/python3.6/dist-packages (from sacremoses->transformers) (7.1.2)\n",
            "Requirement already satisfied: joblib in /usr/local/lib/python3.6/dist-packages (from sacremoses->transformers) (0.17.0)\n",
            "Requirement already satisfied: pyparsing>=2.0.2 in /usr/local/lib/python3.6/dist-packages (from packaging->transformers) (2.4.7)\n",
            "Requirement already satisfied: chardet<4,>=3.0.2 in /usr/local/lib/python3.6/dist-packages (from requests->transformers) (3.0.4)\n",
            "Requirement already satisfied: certifi>=2017.4.17 in /usr/local/lib/python3.6/dist-packages (from requests->transformers) (2020.11.8)\n",
            "Requirement already satisfied: idna<3,>=2.5 in /usr/local/lib/python3.6/dist-packages (from requests->transformers) (2.10)\n",
            "Requirement already satisfied: urllib3!=1.25.0,!=1.25.1,<1.26,>=1.21.1 in /usr/local/lib/python3.6/dist-packages (from requests->transformers) (1.24.3)\n",
            "Building wheels for collected packages: sacremoses\n",
            "  Building wheel for sacremoses (setup.py) ... \u001b[?25l\u001b[?25hdone\n",
            "  Created wheel for sacremoses: filename=sacremoses-0.0.43-cp36-none-any.whl size=893257 sha256=a073798b92fbda0f7db913a36e2c1e3b3ea5f398dacde52b52546e31220da646\n",
            "  Stored in directory: /root/.cache/pip/wheels/29/3c/fd/7ce5c3f0666dab31a50123635e6fb5e19ceb42ce38d4e58f45\n",
            "Successfully built sacremoses\n",
            "Installing collected packages: tokenizers, sacremoses, sentencepiece, transformers\n",
            "Successfully installed sacremoses-0.0.43 sentencepiece-0.1.91 tokenizers-0.9.3 transformers-3.5.1\n"
          ],
          "name": "stdout"
        }
      ]
    },
    {
      "cell_type": "code",
      "metadata": {
        "id": "K_S4Xgp6_DWC"
      },
      "source": [
        "def unicode_to_ascii(s):\n",
        "    return ''.join(c for c in unicodedata.normalize('NFD', s) if unicodedata.category(c) != 'Mn')\n",
        "\n",
        "def clean_stopwords_shortwords(w):\n",
        "    stopwords_list=stopwords.words('english')\n",
        "    words = w.split() \n",
        "    clean_words = [word for word in words if (word not in stopwords_list) and len(word) > 2]\n",
        "    return \" \".join(clean_words) \n",
        "\n",
        "def preprocess_sentence(w):\n",
        "    w = unicode_to_ascii(w.lower().strip())\n",
        "    w = re.sub(r\"([?.!,¿])\", r\" \", w)\n",
        "    w = re.sub(r'[\" \"]+', \" \", w)\n",
        "    w = re.sub(r\"[^a-zA-Z?.!,¿]+\", \" \", w)\n",
        "    w=clean_stopwords_shortwords(w)\n",
        "    w=re.sub(r'@\\w+', '',w)\n",
        "    return w"
      ],
      "execution_count": 3,
      "outputs": []
    },
    {
      "cell_type": "code",
      "metadata": {
        "id": "Qiusmgo2ZnyK",
        "colab": {
          "base_uri": "https://localhost:8080/"
        },
        "outputId": "a779004b-f61c-484d-9796-e3eb4a47ad96"
      },
      "source": [
        "!pip install PyDrive"
      ],
      "execution_count": 4,
      "outputs": [
        {
          "output_type": "stream",
          "text": [
            "Requirement already satisfied: PyDrive in /usr/local/lib/python3.6/dist-packages (1.3.1)\n",
            "Requirement already satisfied: oauth2client>=4.0.0 in /usr/local/lib/python3.6/dist-packages (from PyDrive) (4.1.3)\n",
            "Requirement already satisfied: google-api-python-client>=1.2 in /usr/local/lib/python3.6/dist-packages (from PyDrive) (1.7.12)\n",
            "Requirement already satisfied: PyYAML>=3.0 in /usr/local/lib/python3.6/dist-packages (from PyDrive) (3.13)\n",
            "Requirement already satisfied: httplib2>=0.9.1 in /usr/local/lib/python3.6/dist-packages (from oauth2client>=4.0.0->PyDrive) (0.17.4)\n",
            "Requirement already satisfied: six>=1.6.1 in /usr/local/lib/python3.6/dist-packages (from oauth2client>=4.0.0->PyDrive) (1.15.0)\n",
            "Requirement already satisfied: rsa>=3.1.4 in /usr/local/lib/python3.6/dist-packages (from oauth2client>=4.0.0->PyDrive) (4.6)\n",
            "Requirement already satisfied: pyasn1>=0.1.7 in /usr/local/lib/python3.6/dist-packages (from oauth2client>=4.0.0->PyDrive) (0.4.8)\n",
            "Requirement already satisfied: pyasn1-modules>=0.0.5 in /usr/local/lib/python3.6/dist-packages (from oauth2client>=4.0.0->PyDrive) (0.2.8)\n",
            "Requirement already satisfied: google-auth>=1.4.1 in /usr/local/lib/python3.6/dist-packages (from google-api-python-client>=1.2->PyDrive) (1.17.2)\n",
            "Requirement already satisfied: google-auth-httplib2>=0.0.3 in /usr/local/lib/python3.6/dist-packages (from google-api-python-client>=1.2->PyDrive) (0.0.4)\n",
            "Requirement already satisfied: uritemplate<4dev,>=3.0.0 in /usr/local/lib/python3.6/dist-packages (from google-api-python-client>=1.2->PyDrive) (3.0.1)\n",
            "Requirement already satisfied: cachetools<5.0,>=2.0.0 in /usr/local/lib/python3.6/dist-packages (from google-auth>=1.4.1->google-api-python-client>=1.2->PyDrive) (4.1.1)\n",
            "Requirement already satisfied: setuptools>=40.3.0 in /usr/local/lib/python3.6/dist-packages (from google-auth>=1.4.1->google-api-python-client>=1.2->PyDrive) (50.3.2)\n"
          ],
          "name": "stdout"
        }
      ]
    },
    {
      "cell_type": "code",
      "metadata": {
        "id": "1CepRHHWae0q"
      },
      "source": [
        "from pydrive.auth import GoogleAuth\n",
        "from pydrive.drive import GoogleDrive\n",
        "from google.colab import auth\n",
        "from oauth2client.client import GoogleCredentials"
      ],
      "execution_count": 5,
      "outputs": []
    },
    {
      "cell_type": "code",
      "metadata": {
        "id": "fwBxJUTqaf6X"
      },
      "source": [
        "auth.authenticate_user()\n",
        "gauth = GoogleAuth()\n",
        "gauth.credentials = GoogleCredentials.get_application_default()\n",
        "drive = GoogleDrive(gauth)"
      ],
      "execution_count": 6,
      "outputs": []
    },
    {
      "cell_type": "code",
      "metadata": {
        "id": "pE9NZezPajzF",
        "colab": {
          "base_uri": "https://localhost:8080/",
          "height": 204
        },
        "outputId": "03d041a3-e0e7-4804-b2f8-0fa0b4610960"
      },
      "source": [
        "\n",
        "downloaded = drive.CreateFile({'id':\"1JzRnzuYH40Bte2yrgkpJD408Sr9IuHRn\"})   # replace the id with id of file you want to access\n",
        "downloaded.GetContentFile('train.json')\n",
        "df = pd.read_json('train.json')\n",
        "df.head()"
      ],
      "execution_count": 7,
      "outputs": [
        {
          "output_type": "execute_result",
          "data": {
            "text/html": [
              "<div>\n",
              "<style scoped>\n",
              "    .dataframe tbody tr th:only-of-type {\n",
              "        vertical-align: middle;\n",
              "    }\n",
              "\n",
              "    .dataframe tbody tr th {\n",
              "        vertical-align: top;\n",
              "    }\n",
              "\n",
              "    .dataframe thead th {\n",
              "        text-align: right;\n",
              "    }\n",
              "</style>\n",
              "<table border=\"1\" class=\"dataframe\">\n",
              "  <thead>\n",
              "    <tr style=\"text-align: right;\">\n",
              "      <th></th>\n",
              "      <th>Id</th>\n",
              "      <th>description</th>\n",
              "      <th>gender</th>\n",
              "    </tr>\n",
              "  </thead>\n",
              "  <tbody>\n",
              "    <tr>\n",
              "      <th>0</th>\n",
              "      <td>0</td>\n",
              "      <td>She is also a Ronald D. Asmus Policy Entrepre...</td>\n",
              "      <td>F</td>\n",
              "    </tr>\n",
              "    <tr>\n",
              "      <th>1</th>\n",
              "      <td>1</td>\n",
              "      <td>He is a member of the AICPA and WICPA. Brent ...</td>\n",
              "      <td>M</td>\n",
              "    </tr>\n",
              "    <tr>\n",
              "      <th>2</th>\n",
              "      <td>2</td>\n",
              "      <td>Dr. Aster has held teaching and research posi...</td>\n",
              "      <td>M</td>\n",
              "    </tr>\n",
              "    <tr>\n",
              "      <th>4</th>\n",
              "      <td>3</td>\n",
              "      <td>He runs a boutique design studio attending cl...</td>\n",
              "      <td>M</td>\n",
              "    </tr>\n",
              "    <tr>\n",
              "      <th>5</th>\n",
              "      <td>4</td>\n",
              "      <td>He focuses on cloud security, identity and ac...</td>\n",
              "      <td>M</td>\n",
              "    </tr>\n",
              "  </tbody>\n",
              "</table>\n",
              "</div>"
            ],
            "text/plain": [
              "   Id                                        description gender\n",
              "0   0   She is also a Ronald D. Asmus Policy Entrepre...      F\n",
              "1   1   He is a member of the AICPA and WICPA. Brent ...      M\n",
              "2   2   Dr. Aster has held teaching and research posi...      M\n",
              "4   3   He runs a boutique design studio attending cl...      M\n",
              "5   4   He focuses on cloud security, identity and ac...      M"
            ]
          },
          "metadata": {
            "tags": []
          },
          "execution_count": 7
        }
      ]
    },
    {
      "cell_type": "code",
      "metadata": {
        "id": "5Ew1bTVVdxwC",
        "colab": {
          "base_uri": "https://localhost:8080/",
          "height": 204
        },
        "outputId": "998d18c4-9b3c-4965-d06d-4d864271af46"
      },
      "source": [
        "downloaded = drive.CreateFile({'id':\"1gyxlEkzSBB3rJ6FYq6pIiOvVnK0u64wI\"})   # replace the id with id of file you want to access\n",
        "downloaded.GetContentFile('test.json')\n",
        "test_df = pd.read_json('test.json')\n",
        "test_df.head()"
      ],
      "execution_count": 8,
      "outputs": [
        {
          "output_type": "execute_result",
          "data": {
            "text/html": [
              "<div>\n",
              "<style scoped>\n",
              "    .dataframe tbody tr th:only-of-type {\n",
              "        vertical-align: middle;\n",
              "    }\n",
              "\n",
              "    .dataframe tbody tr th {\n",
              "        vertical-align: top;\n",
              "    }\n",
              "\n",
              "    .dataframe thead th {\n",
              "        text-align: right;\n",
              "    }\n",
              "</style>\n",
              "<table border=\"1\" class=\"dataframe\">\n",
              "  <thead>\n",
              "    <tr style=\"text-align: right;\">\n",
              "      <th></th>\n",
              "      <th>Id</th>\n",
              "      <th>description</th>\n",
              "      <th>gender</th>\n",
              "    </tr>\n",
              "  </thead>\n",
              "  <tbody>\n",
              "    <tr>\n",
              "      <th>3</th>\n",
              "      <td>0</td>\n",
              "      <td>She currently works on CNN’s newest primetime...</td>\n",
              "      <td>F</td>\n",
              "    </tr>\n",
              "    <tr>\n",
              "      <th>6</th>\n",
              "      <td>1</td>\n",
              "      <td>Lavalette’s photographs have been shown widel...</td>\n",
              "      <td>M</td>\n",
              "    </tr>\n",
              "    <tr>\n",
              "      <th>11</th>\n",
              "      <td>2</td>\n",
              "      <td>Along with his academic and professional deve...</td>\n",
              "      <td>M</td>\n",
              "    </tr>\n",
              "    <tr>\n",
              "      <th>17</th>\n",
              "      <td>3</td>\n",
              "      <td>She obtained her Ph.D. in Islamic Studies at ...</td>\n",
              "      <td>F</td>\n",
              "    </tr>\n",
              "    <tr>\n",
              "      <th>18</th>\n",
              "      <td>4</td>\n",
              "      <td>She studies issues of women and Islam and has...</td>\n",
              "      <td>F</td>\n",
              "    </tr>\n",
              "  </tbody>\n",
              "</table>\n",
              "</div>"
            ],
            "text/plain": [
              "    Id                                        description gender\n",
              "3    0   She currently works on CNN’s newest primetime...      F\n",
              "6    1   Lavalette’s photographs have been shown widel...      M\n",
              "11   2   Along with his academic and professional deve...      M\n",
              "17   3   She obtained her Ph.D. in Islamic Studies at ...      F\n",
              "18   4   She studies issues of women and Islam and has...      F"
            ]
          },
          "metadata": {
            "tags": []
          },
          "execution_count": 8
        }
      ]
    },
    {
      "cell_type": "code",
      "metadata": {
        "id": "KeKPskFLfCdN",
        "colab": {
          "base_uri": "https://localhost:8080/",
          "height": 204
        },
        "outputId": "0fc79edc-6472-4c6c-a4ef-008ae06acae5"
      },
      "source": [
        "downloaded = drive.CreateFile({'id':\"1pjtefNzFzGCOzWr7R3oNlzv9k4tMAkUK\"})   # replace the id with id of file you want to access\n",
        "downloaded.GetContentFile('train_label.csv')\n",
        "df_label = pd.read_csv('train_label.csv')\n",
        "df_label.head()"
      ],
      "execution_count": 9,
      "outputs": [
        {
          "output_type": "execute_result",
          "data": {
            "text/html": [
              "<div>\n",
              "<style scoped>\n",
              "    .dataframe tbody tr th:only-of-type {\n",
              "        vertical-align: middle;\n",
              "    }\n",
              "\n",
              "    .dataframe tbody tr th {\n",
              "        vertical-align: top;\n",
              "    }\n",
              "\n",
              "    .dataframe thead th {\n",
              "        text-align: right;\n",
              "    }\n",
              "</style>\n",
              "<table border=\"1\" class=\"dataframe\">\n",
              "  <thead>\n",
              "    <tr style=\"text-align: right;\">\n",
              "      <th></th>\n",
              "      <th>Id</th>\n",
              "      <th>Category</th>\n",
              "    </tr>\n",
              "  </thead>\n",
              "  <tbody>\n",
              "    <tr>\n",
              "      <th>0</th>\n",
              "      <td>0</td>\n",
              "      <td>19</td>\n",
              "    </tr>\n",
              "    <tr>\n",
              "      <th>1</th>\n",
              "      <td>1</td>\n",
              "      <td>9</td>\n",
              "    </tr>\n",
              "    <tr>\n",
              "      <th>2</th>\n",
              "      <td>2</td>\n",
              "      <td>19</td>\n",
              "    </tr>\n",
              "    <tr>\n",
              "      <th>3</th>\n",
              "      <td>3</td>\n",
              "      <td>24</td>\n",
              "    </tr>\n",
              "    <tr>\n",
              "      <th>4</th>\n",
              "      <td>4</td>\n",
              "      <td>24</td>\n",
              "    </tr>\n",
              "  </tbody>\n",
              "</table>\n",
              "</div>"
            ],
            "text/plain": [
              "   Id  Category\n",
              "0   0        19\n",
              "1   1         9\n",
              "2   2        19\n",
              "3   3        24\n",
              "4   4        24"
            ]
          },
          "metadata": {
            "tags": []
          },
          "execution_count": 9
        }
      ]
    },
    {
      "cell_type": "code",
      "metadata": {
        "id": "T4l8kRNaiEZ6",
        "colab": {
          "base_uri": "https://localhost:8080/",
          "height": 204
        },
        "outputId": "d58c074f-ce29-4151-9daf-834b832a8a24"
      },
      "source": [
        "downloaded = drive.CreateFile({'id':\"16rXcCJWKPGeIZ9h4f3t-QoOShyoPcDaf\"})   # replace the id with id of file you want to access\n",
        "downloaded.GetContentFile('categories_string.csv')\n",
        "categories_label = pd.read_csv('categories_string.csv')\n",
        "categories_label.head()"
      ],
      "execution_count": 10,
      "outputs": [
        {
          "output_type": "execute_result",
          "data": {
            "text/html": [
              "<div>\n",
              "<style scoped>\n",
              "    .dataframe tbody tr th:only-of-type {\n",
              "        vertical-align: middle;\n",
              "    }\n",
              "\n",
              "    .dataframe tbody tr th {\n",
              "        vertical-align: top;\n",
              "    }\n",
              "\n",
              "    .dataframe thead th {\n",
              "        text-align: right;\n",
              "    }\n",
              "</style>\n",
              "<table border=\"1\" class=\"dataframe\">\n",
              "  <thead>\n",
              "    <tr style=\"text-align: right;\">\n",
              "      <th></th>\n",
              "      <th>0</th>\n",
              "      <th>1</th>\n",
              "    </tr>\n",
              "  </thead>\n",
              "  <tbody>\n",
              "    <tr>\n",
              "      <th>0</th>\n",
              "      <td>pastor</td>\n",
              "      <td>0</td>\n",
              "    </tr>\n",
              "    <tr>\n",
              "      <th>1</th>\n",
              "      <td>model</td>\n",
              "      <td>1</td>\n",
              "    </tr>\n",
              "    <tr>\n",
              "      <th>2</th>\n",
              "      <td>yoga_teacher</td>\n",
              "      <td>2</td>\n",
              "    </tr>\n",
              "    <tr>\n",
              "      <th>3</th>\n",
              "      <td>teacher</td>\n",
              "      <td>3</td>\n",
              "    </tr>\n",
              "    <tr>\n",
              "      <th>4</th>\n",
              "      <td>personal_trainer</td>\n",
              "      <td>4</td>\n",
              "    </tr>\n",
              "  </tbody>\n",
              "</table>\n",
              "</div>"
            ],
            "text/plain": [
              "                  0  1\n",
              "0            pastor  0\n",
              "1             model  1\n",
              "2      yoga_teacher  2\n",
              "3           teacher  3\n",
              "4  personal_trainer  4"
            ]
          },
          "metadata": {
            "tags": []
          },
          "execution_count": 10
        }
      ]
    },
    {
      "cell_type": "code",
      "metadata": {
        "id": "iUsVtDvBiblD"
      },
      "source": [
        "df = df.merge(df_label,on='Id')\n",
        "df['job'] = categories_label.loc[df['Category'].values,'0'].values\n",
        "df.head()"
      ],
      "execution_count": null,
      "outputs": []
    },
    {
      "cell_type": "code",
      "metadata": {
        "id": "F4qsrzM9i21Z"
      },
      "source": [
        "nltk.download('stopwords')\n",
        "df['description'] = df['description'].map(preprocess_sentence)"
      ],
      "execution_count": 14,
      "outputs": []
    },
    {
      "cell_type": "code",
      "metadata": {
        "colab": {
          "base_uri": "https://localhost:8080/",
          "height": 204
        },
        "id": "pjmGnNogNYMq",
        "outputId": "5074f819-838a-4ccd-80b4-d6e28a580e48"
      },
      "source": [
        "df.head()"
      ],
      "execution_count": 15,
      "outputs": [
        {
          "output_type": "execute_result",
          "data": {
            "text/html": [
              "<div>\n",
              "<style scoped>\n",
              "    .dataframe tbody tr th:only-of-type {\n",
              "        vertical-align: middle;\n",
              "    }\n",
              "\n",
              "    .dataframe tbody tr th {\n",
              "        vertical-align: top;\n",
              "    }\n",
              "\n",
              "    .dataframe thead th {\n",
              "        text-align: right;\n",
              "    }\n",
              "</style>\n",
              "<table border=\"1\" class=\"dataframe\">\n",
              "  <thead>\n",
              "    <tr style=\"text-align: right;\">\n",
              "      <th></th>\n",
              "      <th>Id</th>\n",
              "      <th>description</th>\n",
              "      <th>gender</th>\n",
              "      <th>Category</th>\n",
              "      <th>job</th>\n",
              "    </tr>\n",
              "  </thead>\n",
              "  <tbody>\n",
              "    <tr>\n",
              "      <th>0</th>\n",
              "      <td>0</td>\n",
              "      <td>also ronald asmus policy entrepreneur fellow g...</td>\n",
              "      <td>F</td>\n",
              "      <td>19</td>\n",
              "      <td>professor</td>\n",
              "    </tr>\n",
              "    <tr>\n",
              "      <th>1</th>\n",
              "      <td>1</td>\n",
              "      <td>member aicpa wicpa brent graduated university ...</td>\n",
              "      <td>M</td>\n",
              "      <td>9</td>\n",
              "      <td>accountant</td>\n",
              "    </tr>\n",
              "    <tr>\n",
              "      <th>2</th>\n",
              "      <td>2</td>\n",
              "      <td>aster held teaching research positions ben gur...</td>\n",
              "      <td>M</td>\n",
              "      <td>19</td>\n",
              "      <td>professor</td>\n",
              "    </tr>\n",
              "    <tr>\n",
              "      <th>3</th>\n",
              "      <td>3</td>\n",
              "      <td>runs boutique design studio attending clients ...</td>\n",
              "      <td>M</td>\n",
              "      <td>24</td>\n",
              "      <td>architect</td>\n",
              "    </tr>\n",
              "    <tr>\n",
              "      <th>4</th>\n",
              "      <td>4</td>\n",
              "      <td>focuses cloud security identity access managem...</td>\n",
              "      <td>M</td>\n",
              "      <td>24</td>\n",
              "      <td>architect</td>\n",
              "    </tr>\n",
              "  </tbody>\n",
              "</table>\n",
              "</div>"
            ],
            "text/plain": [
              "   Id                                        description  ... Category         job\n",
              "0   0  also ronald asmus policy entrepreneur fellow g...  ...       19   professor\n",
              "1   1  member aicpa wicpa brent graduated university ...  ...        9  accountant\n",
              "2   2  aster held teaching research positions ben gur...  ...       19   professor\n",
              "3   3  runs boutique design studio attending clients ...  ...       24   architect\n",
              "4   4  focuses cloud security identity access managem...  ...       24   architect\n",
              "\n",
              "[5 rows x 5 columns]"
            ]
          },
          "metadata": {
            "tags": []
          },
          "execution_count": 15
        }
      ]
    },
    {
      "cell_type": "code",
      "metadata": {
        "id": "NcXd4ry-i4pQ",
        "colab": {
          "base_uri": "https://localhost:8080/",
          "height": 337,
          "referenced_widgets": [
            "7880e97800d84794898c97782427ae21",
            "c3bddebf478b45409911989fc25be38b",
            "973b141e826f4b0386cda2f4f066012f",
            "6bc35f149ac3447ca8bdaf025003b137",
            "54c0c8a8fab9484eb39ddd6df5900aea",
            "4d8b006409494149a82a8fd24ee0e160",
            "655bc4f462f44255a0215a47bbf36e1d",
            "265be61f78c4498eab569f2f0fe92921",
            "166df06c55d548a789f6955be157af52",
            "7567b5992a96460887036c6b0e144168",
            "936037879ac347f4927bf716c6903186",
            "b5a4ed64916d41519806e038ed74c861",
            "95fe937a68be4938bee24d8436b053db",
            "b6fed48f0af74c2f8f77be347e5e6317",
            "00766664b1594a278afa24376525fc14",
            "ff48b23e4697453fb641370b9445beee",
            "f0dd6fce74d24925bd0fb47ae5d8f0ee",
            "b0b3a65b3b034ad0bce7ea6791e82232",
            "f664579c95c043fb9ceb93908e526c3a",
            "165e5883703c49f8a342d74ff75666db",
            "7787336e7a6c44c69e9ba17b5f53f043",
            "9549988112844c16b577e82ea0aa4c7a",
            "f0da33e84342427ca5e887bc7d918964",
            "27b52d44e8d64f9886ac063b3672d1fd"
          ]
        },
        "outputId": "13dd0ac6-10c7-4d7f-db8e-e396e3f52c88"
      },
      "source": [
        "bert_tokenizer = BertTokenizer.from_pretrained(\"bert-base-uncased\")\n",
        "\n",
        "bert_model = TFBertForSequenceClassification.from_pretrained('bert-base-uncased',num_labels=28)\n",
        "\n",
        "input_ids = []\n",
        "attention_masks = []\n",
        "\n",
        "for d in tqdm(df.description.values):\n",
        "    bert_inp = bert_tokenizer.encode_plus(d,\n",
        "                                      add_special_tokens = True,\n",
        "                                      max_length =120,\n",
        "                                      pad_to_max_length = True,return_attention_mask = True)\n",
        "    input_ids.append(bert_inp['input_ids'])\n",
        "    attention_masks.append(bert_inp['attention_mask'])\n",
        "\n",
        "input_ids=np.asarray(input_ids)\n",
        "attention_masks=np.array(attention_masks)\n",
        "labels = df['Category'].values"
      ],
      "execution_count": 16,
      "outputs": [
        {
          "output_type": "display_data",
          "data": {
            "application/vnd.jupyter.widget-view+json": {
              "model_id": "7880e97800d84794898c97782427ae21",
              "version_minor": 0,
              "version_major": 2
            },
            "text/plain": [
              "HBox(children=(FloatProgress(value=0.0, description='Downloading', max=231508.0, style=ProgressStyle(descripti…"
            ]
          },
          "metadata": {
            "tags": []
          }
        },
        {
          "output_type": "stream",
          "text": [
            "\n"
          ],
          "name": "stdout"
        },
        {
          "output_type": "display_data",
          "data": {
            "application/vnd.jupyter.widget-view+json": {
              "model_id": "166df06c55d548a789f6955be157af52",
              "version_minor": 0,
              "version_major": 2
            },
            "text/plain": [
              "HBox(children=(FloatProgress(value=0.0, description='Downloading', max=433.0, style=ProgressStyle(description_…"
            ]
          },
          "metadata": {
            "tags": []
          }
        },
        {
          "output_type": "stream",
          "text": [
            "\n"
          ],
          "name": "stdout"
        },
        {
          "output_type": "display_data",
          "data": {
            "application/vnd.jupyter.widget-view+json": {
              "model_id": "f0dd6fce74d24925bd0fb47ae5d8f0ee",
              "version_minor": 0,
              "version_major": 2
            },
            "text/plain": [
              "HBox(children=(FloatProgress(value=0.0, description='Downloading', max=536063208.0, style=ProgressStyle(descri…"
            ]
          },
          "metadata": {
            "tags": []
          }
        },
        {
          "output_type": "stream",
          "text": [
            "\n"
          ],
          "name": "stdout"
        },
        {
          "output_type": "stream",
          "text": [
            "Some layers from the model checkpoint at bert-base-uncased were not used when initializing TFBertForSequenceClassification: ['mlm___cls', 'nsp___cls']\n",
            "- This IS expected if you are initializing TFBertForSequenceClassification from the checkpoint of a model trained on another task or with another architecture (e.g. initializing a BertForSequenceClassification model from a BertForPreTraining model).\n",
            "- This IS NOT expected if you are initializing TFBertForSequenceClassification from the checkpoint of a model that you expect to be exactly identical (initializing a BertForSequenceClassification model from a BertForSequenceClassification model).\n",
            "Some layers of TFBertForSequenceClassification were not initialized from the model checkpoint at bert-base-uncased and are newly initialized: ['dropout_37', 'classifier']\n",
            "You should probably TRAIN this model on a down-stream task to be able to use it for predictions and inference.\n",
            "  0%|          | 0/217197 [00:00<?, ?it/s]Truncation was not explicitly activated but `max_length` is provided a specific value, please use `truncation=True` to explicitly truncate examples to max length. Defaulting to 'longest_first' truncation strategy. If you encode pairs of sequences (GLUE-style) with the tokenizer you can select this strategy more precisely by providing a specific strategy to `truncation`.\n",
            "/usr/local/lib/python3.6/dist-packages/transformers/tokenization_utils_base.py:2022: FutureWarning: The `pad_to_max_length` argument is deprecated and will be removed in a future version, use `padding=True` or `padding='longest'` to pad to the longest sequence in the batch, or use `padding='max_length'` to pad to a max length. In this case, you can give a specific length with `max_length` (e.g. `max_length=45`) or leave max_length to None to pad to the maximal input size of the model (e.g. 512 for Bert).\n",
            "  FutureWarning,\n",
            "100%|██████████| 217197/217197 [04:18<00:00, 839.87it/s]\n"
          ],
          "name": "stderr"
        }
      ]
    },
    {
      "cell_type": "code",
      "metadata": {
        "id": "9FofLuZVi7I2"
      },
      "source": [
        "train_inp,val_inp,train_label,val_label,train_mask,val_mask = train_test_split(input_ids,\n",
        "                                                                               labels,\n",
        "                                                                               attention_masks,\n",
        "                                                                               test_size=0.1,\n",
        "                                                                              stratify=labels,\n",
        "                                                                              random_state=1)"
      ],
      "execution_count": 17,
      "outputs": []
    },
    {
      "cell_type": "code",
      "metadata": {
        "id": "NWSNGvV5i-gb",
        "colab": {
          "base_uri": "https://localhost:8080/"
        },
        "outputId": "ed5952bf-c825-4512-ba1a-91246d091faa"
      },
      "source": [
        "log_dir='tensorboard_data/tb_bert'\n",
        "model_save_path='./models/bert_model.h5'\n",
        "\n",
        "callbacks = [tensorflow.keras.callbacks.ModelCheckpoint(filepath=model_save_path,save_weights_only=True,monitor='val_loss',mode='min',save_best_only=True),\n",
        "            tensorflow.keras.callbacks.TensorBoard(log_dir=log_dir)]\n",
        "\n",
        "print('\\nBert Model',bert_model.summary())\n",
        "\n",
        "loss = tf.keras.losses.SparseCategoricalCrossentropy(from_logits=True)\n",
        "metric = tf.keras.metrics.SparseCategoricalAccuracy('accuracy')\n",
        "optimizer = tf.keras.optimizers.Adam(learning_rate=2e-5,epsilon=1e-08)\n",
        "\n",
        "bert_model.compile(loss=loss,optimizer=optimizer,metrics=[metric])"
      ],
      "execution_count": 18,
      "outputs": [
        {
          "output_type": "stream",
          "text": [
            "Model: \"tf_bert_for_sequence_classification\"\n",
            "_________________________________________________________________\n",
            "Layer (type)                 Output Shape              Param #   \n",
            "=================================================================\n",
            "bert (TFBertMainLayer)       multiple                  109482240 \n",
            "_________________________________________________________________\n",
            "dropout_37 (Dropout)         multiple                  0         \n",
            "_________________________________________________________________\n",
            "classifier (Dense)           multiple                  21532     \n",
            "=================================================================\n",
            "Total params: 109,503,772\n",
            "Trainable params: 109,503,772\n",
            "Non-trainable params: 0\n",
            "_________________________________________________________________\n",
            "\n",
            "Bert Model None\n"
          ],
          "name": "stdout"
        }
      ]
    },
    {
      "cell_type": "code",
      "metadata": {
        "id": "Wu56f5IgjBAV",
        "colab": {
          "base_uri": "https://localhost:8080/"
        },
        "outputId": "78199164-2ee7-4914-ceba-6e0c8e810ac5"
      },
      "source": [
        "bert_model.summary()"
      ],
      "execution_count": 19,
      "outputs": [
        {
          "output_type": "stream",
          "text": [
            "Model: \"tf_bert_for_sequence_classification\"\n",
            "_________________________________________________________________\n",
            "Layer (type)                 Output Shape              Param #   \n",
            "=================================================================\n",
            "bert (TFBertMainLayer)       multiple                  109482240 \n",
            "_________________________________________________________________\n",
            "dropout_37 (Dropout)         multiple                  0         \n",
            "_________________________________________________________________\n",
            "classifier (Dense)           multiple                  21532     \n",
            "=================================================================\n",
            "Total params: 109,503,772\n",
            "Trainable params: 109,503,772\n",
            "Non-trainable params: 0\n",
            "_________________________________________________________________\n"
          ],
          "name": "stdout"
        }
      ]
    },
    {
      "cell_type": "code",
      "metadata": {
        "id": "v0tc5SEyjC4-",
        "colab": {
          "base_uri": "https://localhost:8080/"
        },
        "outputId": "289985d7-4d4d-45eb-b660-b3d4fc2f45f3"
      },
      "source": [
        "history=bert_model.fit([train_inp,train_mask],\n",
        "                       train_label,\n",
        "                       batch_size=32,\n",
        "                       epochs=4,validation_data=([val_inp,val_mask],val_label),\n",
        "                       callbacks=callbacks)"
      ],
      "execution_count": null,
      "outputs": [
        {
          "output_type": "stream",
          "text": [
            "Epoch 1/4\n",
            "   1/6109 [..............................] - ETA: 2s - loss: 3.3037 - accuracy: 0.0312WARNING:tensorflow:From /usr/local/lib/python3.6/dist-packages/tensorflow/python/ops/summary_ops_v2.py:1277: stop (from tensorflow.python.eager.profiler) is deprecated and will be removed after 2020-07-01.\n",
            "Instructions for updating:\n",
            "use `tf.profiler.experimental.stop` instead.\n",
            "6109/6109 [==============================] - 5202s 852ms/step - loss: 0.7021 - accuracy: 0.8020 - val_loss: 0.5673 - val_accuracy: 0.8318\n",
            "Epoch 2/4\n",
            "5042/6109 [=======================>......] - ETA: 14:20 - loss: 0.4688 - accuracy: 0.8592"
          ],
          "name": "stdout"
        }
      ]
    }
  ]
}