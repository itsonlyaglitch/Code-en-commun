{
 "cells": [
  {
   "cell_type": "markdown",
   "metadata": {
    "papermill": {
     "duration": 0.011441,
     "end_time": "2020-10-11T13:42:49.579770",
     "exception": false,
     "start_time": "2020-10-11T13:42:49.568329",
     "status": "completed"
    },
    "tags": []
   },
   "source": [
    "## Data augmenation : goal\n",
    "\n",
    "\n",
    "The reasons of why we want to create new data are the following :\n",
    "- the train dataset categories are really imballanced (30% professors vs 1% rappers)\n",
    "- the accuracy score is the macro f1 score. This means that we have to be equally good at predicting all categories."
   ]
  },
  {
   "cell_type": "markdown",
   "metadata": {
    "papermill": {
     "duration": 0.009723,
     "end_time": "2020-10-11T13:42:49.600512",
     "exception": false,
     "start_time": "2020-10-11T13:42:49.590789",
     "status": "completed"
    },
    "tags": []
   },
   "source": [
    "# Data and Libraries"
   ]
  },
  {
   "cell_type": "code",
   "execution_count": 101,
   "metadata": {
    "_cell_guid": "79c7e3d0-c299-4dcb-8224-4455121ee9b0",
    "_uuid": "d629ff2d2480ee46fbb7e2d37f6b5fab8052498a",
    "execution": {
     "iopub.execute_input": "2020-10-11T13:42:49.628604Z",
     "iopub.status.busy": "2020-10-11T13:42:49.627779Z",
     "iopub.status.idle": "2020-10-11T13:42:52.088321Z",
     "shell.execute_reply": "2020-10-11T13:42:52.087545Z"
    },
    "papermill": {
     "duration": 2.477767,
     "end_time": "2020-10-11T13:42:52.088463",
     "exception": false,
     "start_time": "2020-10-11T13:42:49.610696",
     "status": "completed"
    },
    "tags": []
   },
   "outputs": [
    {
     "name": "stderr",
     "output_type": "stream",
     "text": [
      "[nltk_data] Downloading package punkt to\n",
      "[nltk_data]     C:\\Users\\antoi\\AppData\\Roaming\\nltk_data...\n",
      "[nltk_data]   Package punkt is already up-to-date!\n"
     ]
    },
    {
     "data": {
      "text/plain": [
       "True"
      ]
     },
     "execution_count": 101,
     "metadata": {},
     "output_type": "execute_result"
    }
   ],
   "source": [
    "import pandas as pd\n",
    "import pickle\n",
    "import matplotlib.pyplot as plt\n",
    "from tqdm import tqdm\n",
    "import nltk\n",
    "import random\n",
    "nltk.download('punkt')"
   ]
  },
  {
   "cell_type": "code",
   "execution_count": 17,
   "metadata": {
    "_cell_guid": "79c7e3d0-c299-4dcb-8224-4455121ee9b0",
    "_uuid": "d629ff2d2480ee46fbb7e2d37f6b5fab8052498a",
    "execution": {
     "iopub.execute_input": "2020-10-11T13:42:49.628604Z",
     "iopub.status.busy": "2020-10-11T13:42:49.627779Z",
     "iopub.status.idle": "2020-10-11T13:42:52.088321Z",
     "shell.execute_reply": "2020-10-11T13:42:52.087545Z"
    },
    "papermill": {
     "duration": 2.477767,
     "end_time": "2020-10-11T13:42:52.088463",
     "exception": false,
     "start_time": "2020-10-11T13:42:49.610696",
     "status": "completed"
    },
    "tags": []
   },
   "outputs": [],
   "source": [
    "DATA_PATH = \"data defi ia/\"\n",
    "df = pd.read_json(DATA_PATH+\"/train.json\")\n",
    "test_df = pd.read_json(DATA_PATH+\"/test.json\")\n",
    "df_label = pd.read_csv(DATA_PATH+\"/train_label.csv\")\n",
    "categories_label = pd.read_csv(DATA_PATH+'/categories_string.csv')"
   ]
  },
  {
   "cell_type": "code",
   "execution_count": 18,
   "metadata": {},
   "outputs": [
    {
     "data": {
      "text/html": [
       "<div>\n",
       "<style scoped>\n",
       "    .dataframe tbody tr th:only-of-type {\n",
       "        vertical-align: middle;\n",
       "    }\n",
       "\n",
       "    .dataframe tbody tr th {\n",
       "        vertical-align: top;\n",
       "    }\n",
       "\n",
       "    .dataframe thead th {\n",
       "        text-align: right;\n",
       "    }\n",
       "</style>\n",
       "<table border=\"1\" class=\"dataframe\">\n",
       "  <thead>\n",
       "    <tr style=\"text-align: right;\">\n",
       "      <th></th>\n",
       "      <th>Id</th>\n",
       "      <th>description</th>\n",
       "      <th>gender</th>\n",
       "      <th>Category</th>\n",
       "      <th>job</th>\n",
       "    </tr>\n",
       "  </thead>\n",
       "  <tbody>\n",
       "    <tr>\n",
       "      <th>0</th>\n",
       "      <td>0</td>\n",
       "      <td>She is also a Ronald D. Asmus Policy Entrepre...</td>\n",
       "      <td>F</td>\n",
       "      <td>19</td>\n",
       "      <td>professor</td>\n",
       "    </tr>\n",
       "    <tr>\n",
       "      <th>1</th>\n",
       "      <td>1</td>\n",
       "      <td>He is a member of the AICPA and WICPA. Brent ...</td>\n",
       "      <td>M</td>\n",
       "      <td>9</td>\n",
       "      <td>accountant</td>\n",
       "    </tr>\n",
       "    <tr>\n",
       "      <th>2</th>\n",
       "      <td>2</td>\n",
       "      <td>Dr. Aster has held teaching and research posi...</td>\n",
       "      <td>M</td>\n",
       "      <td>19</td>\n",
       "      <td>professor</td>\n",
       "    </tr>\n",
       "    <tr>\n",
       "      <th>3</th>\n",
       "      <td>3</td>\n",
       "      <td>He runs a boutique design studio attending cl...</td>\n",
       "      <td>M</td>\n",
       "      <td>24</td>\n",
       "      <td>architect</td>\n",
       "    </tr>\n",
       "    <tr>\n",
       "      <th>4</th>\n",
       "      <td>4</td>\n",
       "      <td>He focuses on cloud security, identity and ac...</td>\n",
       "      <td>M</td>\n",
       "      <td>24</td>\n",
       "      <td>architect</td>\n",
       "    </tr>\n",
       "  </tbody>\n",
       "</table>\n",
       "</div>"
      ],
      "text/plain": [
       "   Id                                        description gender  Category  \\\n",
       "0   0   She is also a Ronald D. Asmus Policy Entrepre...      F        19   \n",
       "1   1   He is a member of the AICPA and WICPA. Brent ...      M         9   \n",
       "2   2   Dr. Aster has held teaching and research posi...      M        19   \n",
       "3   3   He runs a boutique design studio attending cl...      M        24   \n",
       "4   4   He focuses on cloud security, identity and ac...      M        24   \n",
       "\n",
       "          job  \n",
       "0   professor  \n",
       "1  accountant  \n",
       "2   professor  \n",
       "3   architect  \n",
       "4   architect  "
      ]
     },
     "execution_count": 18,
     "metadata": {},
     "output_type": "execute_result"
    }
   ],
   "source": [
    "df = df.merge(df_label,on='Id')\n",
    "df['job'] = categories_label.loc[df['Category'].values,'0'].values\n",
    "df.head()"
   ]
  },
  {
   "cell_type": "markdown",
   "metadata": {
    "papermill": {
     "duration": 0.010312,
     "end_time": "2020-10-11T13:42:52.109960",
     "exception": false,
     "start_time": "2020-10-11T13:42:52.099648",
     "status": "completed"
    },
    "tags": []
   },
   "source": [
    "# Cleaning\n",
    "\n",
    "The only cleaning transformation applied here is that we `lower` the data so that all words are lower case. \n",
    "Hence `research`and `Research` will be considered as similar word.\n",
    "\n",
    "You might want to look at other cleaning step such that removing stopwords, stemming words, etc."
   ]
  },
  {
   "cell_type": "code",
   "execution_count": 19,
   "metadata": {
    "execution": {
     "iopub.execute_input": "2020-10-11T13:42:52.164464Z",
     "iopub.status.busy": "2020-10-11T13:42:52.159417Z",
     "iopub.status.idle": "2020-10-11T13:42:52.626788Z",
     "shell.execute_reply": "2020-10-11T13:42:52.627479Z"
    },
    "papermill": {
     "duration": 0.507141,
     "end_time": "2020-10-11T13:42:52.627649",
     "exception": false,
     "start_time": "2020-10-11T13:42:52.120508",
     "status": "completed"
    },
    "tags": []
   },
   "outputs": [],
   "source": [
    "df[\"description_lower\"] = [x.lower() for x in df.description]\n",
    "test_df[\"description_lower\"] = [x.lower() for x in test_df.description]"
   ]
  },
  {
   "cell_type": "code",
   "execution_count": 20,
   "metadata": {},
   "outputs": [],
   "source": [
    "from sklearn.model_selection import train_test_split\n",
    "\n",
    "df_train, df_validation = train_test_split(df, test_size = .1, random_state= 42)"
   ]
  },
  {
   "cell_type": "markdown",
   "metadata": {},
   "source": [
    "## Visualizing disparity in the training dataset :"
   ]
  },
  {
   "cell_type": "code",
   "execution_count": 25,
   "metadata": {
    "scrolled": false
   },
   "outputs": [
    {
     "data": {
      "image/png": "[encoded data removed]",
      "text/plain": [
       "<Figure size 1440x576 with 1 Axes>"
      ]
     },
     "metadata": {
      "needs_background": "light"
     },
     "output_type": "display_data"
    }
   ],
   "source": [
    "CMAP = plt.get_cmap(\"Set1\")\n",
    "COLOR = [CMAP(k) for k in range(28)]\n",
    "\n",
    "\n",
    "data_count = df['Category'].astype(int).value_counts()\n",
    "#Rename index to add percentage\n",
    "new_index = [categories_label['0'][k]+ \": %.2f%%\" %(v*100/len(df)) for k,v in data_count.iteritems()]\n",
    "\n",
    "fig=plt.figure(figsize= (20,8))\n",
    "ax = fig.add_subplot(1,2,1)\n",
    "ax.barh(range(28), data_count.values, 0.9, color = COLOR, tick_label = new_index)\n",
    "for k in range(28):\n",
    "    ax.text(data_count.values[k], k, str(data_count.values[k]))\n",
    "\n",
    "plt.show()"
   ]
  },
  {
   "cell_type": "markdown",
   "metadata": {},
   "source": [
    "## Generating new descriptions :\n",
    "\n",
    "In this cell, for every possible job, we extract sentences from the first 400 descriptions. Then we randomly pick from 3 to 5 sentences in this bag of sentences in order to generate a new description.\n",
    "\n",
    "For a given job, we generate new descriptions until the total number of descriptions (real + fake) for that job is equal to the number of descriptions for the job \"professor\". This way we will obtain a balance dataset. Hopefully it will help a futur model at performing better."
   ]
  },
  {
   "cell_type": "code",
   "execution_count": null,
   "metadata": {},
   "outputs": [
    {
     "name": "stderr",
     "output_type": "stream",
     "text": [
      "  0%|                                                                                | 2/68519 [00:00<59:34, 19.17it/s]"
     ]
    },
    {
     "name": "stdout",
     "output_type": "stream",
     "text": [
      "pastor 68519\n"
     ]
    },
    {
     "name": "stderr",
     "output_type": "stream",
     "text": [
      " 28%|█████████████████████▎                                                      | 19186/68519 [16:00<43:11, 19.04it/s]"
     ]
    }
   ],
   "source": [
    "for i in range(28):\n",
    "    job = categories_label['0'][i]\n",
    "    cat = categories_label['1'][i]\n",
    "    df_job = df.loc[df['job']==job,]\n",
    "    \n",
    "\n",
    "    new_fake_descriptions = []\n",
    "    n_fake_descriptions = data_count.max() - len(df_job)\n",
    "    print(job, n_fake_descriptions)\n",
    "\n",
    "    for _ in tqdm(range(n_fake_descriptions)):\n",
    "        sum_descriptions = df_job['description_lower'].values[:400].sum()\n",
    "        bag_of_sentences = nltk.sent_tokenize(sum_descriptions)\n",
    "\n",
    "\n",
    "        random_selection = random.sample(bag_of_sentences,random.sample([3,4,5],1)[0])\n",
    "        new_description = ''\n",
    "\n",
    "        for sent in random_selection :\n",
    "            new_description += sent+ ' '\n",
    "        new_fake_descriptions.append(new_description)\n",
    "\n",
    "    new_labels_job = [job] * n_fake_descriptions\n",
    "    new_labels_cat = [cat] * n_fake_descriptions\n",
    "\n",
    "    fake_df = pd.DataFrame({\"descriptions_lower\":new_fake_descriptions,\n",
    "                           \"Category\":new_labels_cat,\n",
    "                           \"job\":new_labels_job})\n",
    "\n",
    "    fake_df.to_csv(f'fake_data/fake_df_{job}')\n"
   ]
  }
 ],
 "metadata": {
  "kernelspec": {
   "display_name": "Python 3",
   "language": "python",
   "name": "python3"
  },
  "language_info": {
   "codemirror_mode": {
    "name": "ipython",
    "version": 3
   },
   "file_extension": ".py",
   "mimetype": "text/x-python",
   "name": "python",
   "nbconvert_exporter": "python",
   "pygments_lexer": "ipython3",
   "version": "3.7.1"
  },
  "papermill": {
   "duration": 299.191076,
   "end_time": "2020-10-11T13:47:43.747771",
   "environment_variables": {},
   "exception": null,
   "input_path": "__notebook__.ipynb",
   "output_path": "__notebook__.ipynb",
   "parameters": {},
   "start_time": "2020-10-11T13:42:44.556695",
   "version": "2.1.0"
  }
 },
 "nbformat": 4,
 "nbformat_minor": 4
}
